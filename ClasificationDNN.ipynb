{
  "nbformat": 4,
  "nbformat_minor": 0,
  "metadata": {
    "colab": {
      "name": "Clasification.ipynb",
      "provenance": [],
      "collapsed_sections": [],
      "authorship_tag": "ABX9TyPfTnDlLHLZS+CBWVNRSGw0",
      "include_colab_link": true
    },
    "kernelspec": {
      "name": "python3",
      "display_name": "Python 3"
    }
  },
  "cells": [
    {
      "cell_type": "markdown",
      "metadata": {
        "id": "view-in-github",
        "colab_type": "text"
      },
      "source": [
        "<a href=\"https://colab.research.google.com/github/DimasVeliz/MachineLearning6hCourse/blob/main/ClasificationDNN.ipynb\" target=\"_parent\"><img src=\"https://colab.research.google.com/assets/colab-badge.svg\" alt=\"Open In Colab\"/></a>"
      ]
    },
    {
      "cell_type": "code",
      "metadata": {
        "id": "NykIMkcBb2N6"
      },
      "source": [
        "%tensorflow_version 2.x"
      ],
      "execution_count": 18,
      "outputs": []
    },
    {
      "cell_type": "code",
      "metadata": {
        "id": "LzjSL6M6xeU3"
      },
      "source": [
        "from __future__ import absolute_import, division, print_function, unicode_literals\n",
        "import tensorflow as tf\n",
        "import pandas as pd\n"
      ],
      "execution_count": 19,
      "outputs": []
    },
    {
      "cell_type": "code",
      "metadata": {
        "id": "Sgp93I6fy-EZ"
      },
      "source": [
        "CSV_COLUMNS_NAMES= ['SepalLength','SepalWidth','PetalLength','PetalWidth','Species']\n",
        "SPECIES = ['Setosa', 'Versicolor', 'Virginica']"
      ],
      "execution_count": 20,
      "outputs": []
    },
    {
      "cell_type": "code",
      "metadata": {
        "id": "E9AVd-3I0LZa"
      },
      "source": [
        "train_path =tf.keras.utils.get_file(\"iris_training.csv\", \"https://storage.googleapis.com/download.tensorflow.org/data/iris_training.csv\")"
      ],
      "execution_count": 21,
      "outputs": []
    },
    {
      "cell_type": "code",
      "metadata": {
        "id": "Ind41fy_07JF"
      },
      "source": [
        "test_path =tf.keras.utils.get_file(\"iris_test.csv\", \"https://storage.googleapis.com/download.tensorflow.org/data/iris_test.csv\")"
      ],
      "execution_count": 22,
      "outputs": []
    },
    {
      "cell_type": "code",
      "metadata": {
        "colab": {
          "base_uri": "https://localhost:8080/"
        },
        "id": "8KAMJV351WwE",
        "outputId": "2af9b3cc-fdfa-494a-8b0e-a92606dea23e"
      },
      "source": [
        "train =pd.read_csv(train_path, names=CSV_COLUMNS_NAMES,header=0)\n",
        "test =pd.read_csv(test_path, names=CSV_COLUMNS_NAMES,header=0)\n",
        "\n",
        "print(len(test))\n",
        "print(test)"
      ],
      "execution_count": 23,
      "outputs": [
        {
          "output_type": "stream",
          "text": [
            "30\n",
            "    SepalLength  SepalWidth  PetalLength  PetalWidth  Species\n",
            "0           5.9         3.0          4.2         1.5        1\n",
            "1           6.9         3.1          5.4         2.1        2\n",
            "2           5.1         3.3          1.7         0.5        0\n",
            "3           6.0         3.4          4.5         1.6        1\n",
            "4           5.5         2.5          4.0         1.3        1\n",
            "5           6.2         2.9          4.3         1.3        1\n",
            "6           5.5         4.2          1.4         0.2        0\n",
            "7           6.3         2.8          5.1         1.5        2\n",
            "8           5.6         3.0          4.1         1.3        1\n",
            "9           6.7         2.5          5.8         1.8        2\n",
            "10          7.1         3.0          5.9         2.1        2\n",
            "11          4.3         3.0          1.1         0.1        0\n",
            "12          5.6         2.8          4.9         2.0        2\n",
            "13          5.5         2.3          4.0         1.3        1\n",
            "14          6.0         2.2          4.0         1.0        1\n",
            "15          5.1         3.5          1.4         0.2        0\n",
            "16          5.7         2.6          3.5         1.0        1\n",
            "17          4.8         3.4          1.9         0.2        0\n",
            "18          5.1         3.4          1.5         0.2        0\n",
            "19          5.7         2.5          5.0         2.0        2\n",
            "20          5.4         3.4          1.7         0.2        0\n",
            "21          5.6         3.0          4.5         1.5        1\n",
            "22          6.3         2.9          5.6         1.8        2\n",
            "23          6.3         2.5          4.9         1.5        1\n",
            "24          5.8         2.7          3.9         1.2        1\n",
            "25          6.1         3.0          4.6         1.4        1\n",
            "26          5.2         4.1          1.5         0.1        0\n",
            "27          6.7         3.1          4.7         1.5        1\n",
            "28          6.7         3.3          5.7         2.5        2\n",
            "29          6.4         2.9          4.3         1.3        1\n"
          ],
          "name": "stdout"
        }
      ]
    },
    {
      "cell_type": "code",
      "metadata": {
        "id": "d6pbv86e1zKV"
      },
      "source": [
        "train_y=train.pop('Species')\n",
        "test_y=test.pop('Species')\n"
      ],
      "execution_count": 24,
      "outputs": []
    },
    {
      "cell_type": "code",
      "metadata": {
        "colab": {
          "base_uri": "https://localhost:8080/"
        },
        "id": "mdjHw7qB19NK",
        "outputId": "2260c2ee-de3e-4a69-8565-1aaab21d717a"
      },
      "source": [
        "train.shape"
      ],
      "execution_count": 25,
      "outputs": [
        {
          "output_type": "execute_result",
          "data": {
            "text/plain": [
              "(120, 4)"
            ]
          },
          "metadata": {
            "tags": []
          },
          "execution_count": 25
        }
      ]
    },
    {
      "cell_type": "code",
      "metadata": {
        "id": "2ZHPm49R2Tm1"
      },
      "source": [
        "def input_fn(features, labels, training=True, batch_size=256):\n",
        "  dataset =tf.data.Dataset.from_tensor_slices((dict(features),labels))\n",
        "  if training:\n",
        "    dataset= dataset.shuffle(1000).repeat()\n",
        "  return dataset.batch(batch_size)"
      ],
      "execution_count": 26,
      "outputs": []
    },
    {
      "cell_type": "code",
      "metadata": {
        "colab": {
          "base_uri": "https://localhost:8080/"
        },
        "id": "n1OpJDkl3Xoh",
        "outputId": "08ebe53c-1a3d-4c9a-d093-539e1c328fd0"
      },
      "source": [
        "my_feature_columns=[]\n",
        "for key in train.keys():\n",
        "  my_feature_columns.append(tf.feature_column.numeric_column(key=key))\n",
        "print(my_feature_columns)"
      ],
      "execution_count": 27,
      "outputs": [
        {
          "output_type": "stream",
          "text": [
            "[NumericColumn(key='SepalLength', shape=(1,), default_value=None, dtype=tf.float32, normalizer_fn=None), NumericColumn(key='SepalWidth', shape=(1,), default_value=None, dtype=tf.float32, normalizer_fn=None), NumericColumn(key='PetalLength', shape=(1,), default_value=None, dtype=tf.float32, normalizer_fn=None), NumericColumn(key='PetalWidth', shape=(1,), default_value=None, dtype=tf.float32, normalizer_fn=None)]\n"
          ],
          "name": "stdout"
        }
      ]
    },
    {
      "cell_type": "code",
      "metadata": {
        "colab": {
          "base_uri": "https://localhost:8080/"
        },
        "id": "c_UIjjEa44-W",
        "outputId": "82fd841e-e6d9-4a83-bb0a-9b86120c8c49"
      },
      "source": [
        "classifier= tf.estimator.DNNClassifier(feature_columns=my_feature_columns, hidden_units=[30,10], n_classes=3)"
      ],
      "execution_count": 28,
      "outputs": [
        {
          "output_type": "stream",
          "text": [
            "INFO:tensorflow:Using default config.\n",
            "WARNING:tensorflow:Using temporary folder as model directory: /tmp/tmpvoivuzu_\n",
            "INFO:tensorflow:Using config: {'_model_dir': '/tmp/tmpvoivuzu_', '_tf_random_seed': None, '_save_summary_steps': 100, '_save_checkpoints_steps': None, '_save_checkpoints_secs': 600, '_session_config': allow_soft_placement: true\n",
            "graph_options {\n",
            "  rewrite_options {\n",
            "    meta_optimizer_iterations: ONE\n",
            "  }\n",
            "}\n",
            ", '_keep_checkpoint_max': 5, '_keep_checkpoint_every_n_hours': 10000, '_log_step_count_steps': 100, '_train_distribute': None, '_device_fn': None, '_protocol': None, '_eval_distribute': None, '_experimental_distribute': None, '_experimental_max_worker_delay_secs': None, '_session_creation_timeout_secs': 7200, '_service': None, '_cluster_spec': ClusterSpec({}), '_task_type': 'worker', '_task_id': 0, '_global_id_in_cluster': 0, '_master': '', '_evaluation_master': '', '_is_chief': True, '_num_ps_replicas': 0, '_num_worker_replicas': 1}\n"
          ],
          "name": "stdout"
        }
      ]
    },
    {
      "cell_type": "code",
      "metadata": {
        "colab": {
          "base_uri": "https://localhost:8080/"
        },
        "id": "l-i1ejrc58gy",
        "outputId": "3948493f-2c1f-4268-d7b4-8b9ad6cde228"
      },
      "source": [
        "classifier.train(\n",
        "                input_fn=lambda:input_fn(train,train_y,training=True),\n",
        "                 steps=5000\n",
        "                 )"
      ],
      "execution_count": 38,
      "outputs": [
        {
          "output_type": "stream",
          "text": [
            "INFO:tensorflow:Calling model_fn.\n",
            "WARNING:tensorflow:Layer dnn is casting an input tensor from dtype float64 to the layer's dtype of float32, which is new behavior in TensorFlow 2.  The layer has dtype float32 because its dtype defaults to floatx.\n",
            "\n",
            "If you intended to run this layer in float32, you can safely ignore this warning. If in doubt, this warning is likely only an issue if you are porting a TensorFlow 1.X model to TensorFlow 2.\n",
            "\n",
            "To change all layers to have dtype float64 by default, call `tf.keras.backend.set_floatx('float64')`. To change just this layer, pass dtype='float64' to the layer constructor. If you are the author of this layer, you can disable autocasting by passing autocast=False to the base Layer constructor.\n",
            "\n",
            "INFO:tensorflow:Done calling model_fn.\n",
            "INFO:tensorflow:Create CheckpointSaverHook.\n",
            "INFO:tensorflow:Graph was finalized.\n",
            "INFO:tensorflow:Restoring parameters from /tmp/tmpvoivuzu_/model.ckpt-5000\n",
            "WARNING:tensorflow:From /usr/local/lib/python3.6/dist-packages/tensorflow/python/training/saver.py:1077: get_checkpoint_mtimes (from tensorflow.python.training.checkpoint_management) is deprecated and will be removed in a future version.\n",
            "Instructions for updating:\n",
            "Use standard file utilities to get mtimes.\n",
            "INFO:tensorflow:Running local_init_op.\n",
            "INFO:tensorflow:Done running local_init_op.\n",
            "INFO:tensorflow:Calling checkpoint listeners before saving checkpoint 5000...\n",
            "INFO:tensorflow:Saving checkpoints for 5000 into /tmp/tmpvoivuzu_/model.ckpt.\n",
            "INFO:tensorflow:Calling checkpoint listeners after saving checkpoint 5000...\n",
            "INFO:tensorflow:loss = 0.7565576, step = 5000\n",
            "INFO:tensorflow:global_step/sec: 528.114\n",
            "INFO:tensorflow:loss = 0.7655276, step = 5100 (0.191 sec)\n",
            "INFO:tensorflow:global_step/sec: 634.859\n",
            "INFO:tensorflow:loss = 0.7500371, step = 5200 (0.160 sec)\n",
            "INFO:tensorflow:global_step/sec: 662.229\n",
            "INFO:tensorflow:loss = 0.75717914, step = 5300 (0.151 sec)\n",
            "INFO:tensorflow:global_step/sec: 660.441\n",
            "INFO:tensorflow:loss = 0.7643321, step = 5400 (0.151 sec)\n",
            "WARNING:tensorflow:It seems that global step (tf.train.get_global_step) has not been increased. Current value (could be stable): 5423 vs previous value: 5423. You could increase the global step by passing tf.train.get_global_step() to Optimizer.apply_gradients or Optimizer.minimize.\n",
            "INFO:tensorflow:global_step/sec: 621.867\n",
            "INFO:tensorflow:loss = 0.72935396, step = 5500 (0.161 sec)\n",
            "INFO:tensorflow:global_step/sec: 660.593\n",
            "INFO:tensorflow:loss = 0.7502513, step = 5600 (0.152 sec)\n",
            "INFO:tensorflow:global_step/sec: 649.06\n",
            "INFO:tensorflow:loss = 0.73496467, step = 5700 (0.154 sec)\n",
            "INFO:tensorflow:global_step/sec: 636.098\n",
            "INFO:tensorflow:loss = 0.73389417, step = 5800 (0.155 sec)\n",
            "INFO:tensorflow:global_step/sec: 657.785\n",
            "INFO:tensorflow:loss = 0.74204564, step = 5900 (0.152 sec)\n",
            "INFO:tensorflow:global_step/sec: 652.279\n",
            "INFO:tensorflow:loss = 0.73756146, step = 6000 (0.155 sec)\n",
            "INFO:tensorflow:global_step/sec: 668.023\n",
            "INFO:tensorflow:loss = 0.7338226, step = 6100 (0.150 sec)\n",
            "INFO:tensorflow:global_step/sec: 621.708\n",
            "INFO:tensorflow:loss = 0.73339117, step = 6200 (0.161 sec)\n",
            "INFO:tensorflow:global_step/sec: 658.375\n",
            "INFO:tensorflow:loss = 0.72657907, step = 6300 (0.150 sec)\n",
            "INFO:tensorflow:global_step/sec: 648.922\n",
            "INFO:tensorflow:loss = 0.73040754, step = 6400 (0.154 sec)\n",
            "INFO:tensorflow:global_step/sec: 640.788\n",
            "INFO:tensorflow:loss = 0.7223546, step = 6500 (0.156 sec)\n",
            "INFO:tensorflow:global_step/sec: 657.76\n",
            "INFO:tensorflow:loss = 0.7224329, step = 6600 (0.155 sec)\n",
            "INFO:tensorflow:global_step/sec: 649.446\n",
            "INFO:tensorflow:loss = 0.7214341, step = 6700 (0.152 sec)\n",
            "INFO:tensorflow:global_step/sec: 658.896\n",
            "INFO:tensorflow:loss = 0.7288047, step = 6800 (0.151 sec)\n",
            "INFO:tensorflow:global_step/sec: 649.233\n",
            "INFO:tensorflow:loss = 0.7243171, step = 6900 (0.154 sec)\n",
            "INFO:tensorflow:global_step/sec: 655.935\n",
            "INFO:tensorflow:loss = 0.7145972, step = 7000 (0.153 sec)\n",
            "INFO:tensorflow:global_step/sec: 627.305\n",
            "INFO:tensorflow:loss = 0.72468495, step = 7100 (0.164 sec)\n",
            "INFO:tensorflow:global_step/sec: 649.945\n",
            "INFO:tensorflow:loss = 0.7217059, step = 7200 (0.152 sec)\n",
            "INFO:tensorflow:global_step/sec: 661.164\n",
            "INFO:tensorflow:loss = 0.70895517, step = 7300 (0.151 sec)\n",
            "INFO:tensorflow:global_step/sec: 644.148\n",
            "INFO:tensorflow:loss = 0.71485406, step = 7400 (0.155 sec)\n",
            "INFO:tensorflow:global_step/sec: 656.817\n",
            "INFO:tensorflow:loss = 0.7097309, step = 7500 (0.149 sec)\n",
            "INFO:tensorflow:global_step/sec: 618.72\n",
            "INFO:tensorflow:loss = 0.6958635, step = 7600 (0.162 sec)\n",
            "INFO:tensorflow:global_step/sec: 618.242\n",
            "INFO:tensorflow:loss = 0.70755285, step = 7700 (0.162 sec)\n",
            "INFO:tensorflow:global_step/sec: 635.444\n",
            "INFO:tensorflow:loss = 0.7139044, step = 7800 (0.158 sec)\n",
            "INFO:tensorflow:global_step/sec: 670.602\n",
            "INFO:tensorflow:loss = 0.7032688, step = 7900 (0.149 sec)\n",
            "INFO:tensorflow:global_step/sec: 674.369\n",
            "INFO:tensorflow:loss = 0.70441574, step = 8000 (0.150 sec)\n",
            "INFO:tensorflow:global_step/sec: 632.469\n",
            "INFO:tensorflow:loss = 0.7055886, step = 8100 (0.158 sec)\n",
            "INFO:tensorflow:global_step/sec: 653.939\n",
            "INFO:tensorflow:loss = 0.69156, step = 8200 (0.150 sec)\n",
            "INFO:tensorflow:global_step/sec: 646.556\n",
            "INFO:tensorflow:loss = 0.69887865, step = 8300 (0.155 sec)\n",
            "INFO:tensorflow:global_step/sec: 628.19\n",
            "INFO:tensorflow:loss = 0.69888085, step = 8400 (0.159 sec)\n",
            "INFO:tensorflow:global_step/sec: 606.822\n",
            "INFO:tensorflow:loss = 0.7013113, step = 8500 (0.167 sec)\n",
            "INFO:tensorflow:global_step/sec: 658.22\n",
            "INFO:tensorflow:loss = 0.69401073, step = 8600 (0.149 sec)\n",
            "INFO:tensorflow:global_step/sec: 678.159\n",
            "INFO:tensorflow:loss = 0.6981292, step = 8700 (0.148 sec)\n",
            "INFO:tensorflow:global_step/sec: 651.432\n",
            "INFO:tensorflow:loss = 0.68444526, step = 8800 (0.154 sec)\n",
            "INFO:tensorflow:global_step/sec: 672.738\n",
            "INFO:tensorflow:loss = 0.6844647, step = 8900 (0.149 sec)\n",
            "INFO:tensorflow:global_step/sec: 644.12\n",
            "INFO:tensorflow:loss = 0.68464696, step = 9000 (0.154 sec)\n",
            "INFO:tensorflow:global_step/sec: 642.909\n",
            "INFO:tensorflow:loss = 0.68595517, step = 9100 (0.158 sec)\n",
            "INFO:tensorflow:global_step/sec: 663.33\n",
            "INFO:tensorflow:loss = 0.6902671, step = 9200 (0.151 sec)\n",
            "INFO:tensorflow:global_step/sec: 651.355\n",
            "INFO:tensorflow:loss = 0.67945063, step = 9300 (0.154 sec)\n",
            "INFO:tensorflow:global_step/sec: 656.549\n",
            "INFO:tensorflow:loss = 0.6850183, step = 9400 (0.152 sec)\n",
            "INFO:tensorflow:global_step/sec: 642.331\n",
            "INFO:tensorflow:loss = 0.6791745, step = 9500 (0.154 sec)\n",
            "INFO:tensorflow:global_step/sec: 665.503\n",
            "INFO:tensorflow:loss = 0.6924571, step = 9600 (0.151 sec)\n",
            "INFO:tensorflow:global_step/sec: 674.63\n",
            "INFO:tensorflow:loss = 0.6720202, step = 9700 (0.148 sec)\n",
            "INFO:tensorflow:global_step/sec: 638.791\n",
            "INFO:tensorflow:loss = 0.6756284, step = 9800 (0.159 sec)\n",
            "INFO:tensorflow:global_step/sec: 647.275\n",
            "INFO:tensorflow:loss = 0.6710689, step = 9900 (0.155 sec)\n",
            "INFO:tensorflow:Calling checkpoint listeners before saving checkpoint 10000...\n",
            "INFO:tensorflow:Saving checkpoints for 10000 into /tmp/tmpvoivuzu_/model.ckpt.\n",
            "INFO:tensorflow:Calling checkpoint listeners after saving checkpoint 10000...\n",
            "INFO:tensorflow:Loss for final step: 0.6826258.\n"
          ],
          "name": "stdout"
        },
        {
          "output_type": "execute_result",
          "data": {
            "text/plain": [
              "<tensorflow_estimator.python.estimator.canned.dnn.DNNClassifierV2 at 0x7f58c216fb38>"
            ]
          },
          "metadata": {
            "tags": []
          },
          "execution_count": 38
        }
      ]
    },
    {
      "cell_type": "code",
      "metadata": {
        "colab": {
          "base_uri": "https://localhost:8080/"
        },
        "id": "C8rVfDp161L1",
        "outputId": "23119905-5c0f-46c6-d0e9-6f5e6a13a570"
      },
      "source": [
        "eval_result=classifier.evaluate(input_fn=lambda:input_fn(test,test_y,training=False))\n",
        "print('\\nTest set accuracy: {accuracy:0.3f}\\n'.format(**eval_result))\n"
      ],
      "execution_count": 39,
      "outputs": [
        {
          "output_type": "stream",
          "text": [
            "INFO:tensorflow:Calling model_fn.\n",
            "WARNING:tensorflow:Layer dnn is casting an input tensor from dtype float64 to the layer's dtype of float32, which is new behavior in TensorFlow 2.  The layer has dtype float32 because its dtype defaults to floatx.\n",
            "\n",
            "If you intended to run this layer in float32, you can safely ignore this warning. If in doubt, this warning is likely only an issue if you are porting a TensorFlow 1.X model to TensorFlow 2.\n",
            "\n",
            "To change all layers to have dtype float64 by default, call `tf.keras.backend.set_floatx('float64')`. To change just this layer, pass dtype='float64' to the layer constructor. If you are the author of this layer, you can disable autocasting by passing autocast=False to the base Layer constructor.\n",
            "\n",
            "INFO:tensorflow:Done calling model_fn.\n",
            "INFO:tensorflow:Starting evaluation at 2020-11-23T02:36:40Z\n",
            "INFO:tensorflow:Graph was finalized.\n",
            "INFO:tensorflow:Restoring parameters from /tmp/tmpvoivuzu_/model.ckpt-10000\n",
            "INFO:tensorflow:Running local_init_op.\n",
            "INFO:tensorflow:Done running local_init_op.\n",
            "INFO:tensorflow:Inference Time : 0.18128s\n",
            "INFO:tensorflow:Finished evaluation at 2020-11-23-02:36:40\n",
            "INFO:tensorflow:Saving dict for global step 10000: accuracy = 0.73333335, average_loss = 0.68935746, global_step = 10000, loss = 0.68935746\n",
            "INFO:tensorflow:Saving 'checkpoint_path' summary for global step 10000: /tmp/tmpvoivuzu_/model.ckpt-10000\n",
            "\n",
            "Test set accuracy: 0.733\n",
            "\n"
          ],
          "name": "stdout"
        }
      ]
    },
    {
      "cell_type": "code",
      "metadata": {
        "colab": {
          "base_uri": "https://localhost:8080/"
        },
        "id": "D5EU_vTr8O_1",
        "outputId": "85c71c0e-a21e-4d05-c03b-6efdebd4d612"
      },
      "source": [
        "def input_fn(features,batch_size=256):\n",
        "  return tf.data.Dataset.from_tensor_slices(dict(features)).batch(batch_size)\n",
        "\n",
        "features =['SepalLength','SepalWidth','PetalLength','PetalWidth']\n",
        "predict ={}\n",
        "print(\"Pleast type a numeric value as prompted:\")\n",
        "\n",
        "for feature in features:\n",
        "  valid=True\n",
        "  while valid:\n",
        "    val=input(feature + \": \")\n",
        "    if not val.isdigit():valid= False\n",
        "  predict[feature]=[float(val)]\n",
        "\n",
        "predictions= classifier.predict(input_fn=lambda:input_fn(predict))\n",
        "\n",
        "for pred_dict in predictions:\n",
        "  class_id = pred_dict['class_ids'][0]\n",
        "  probability= pred_dict['probabilities'][class_id]\n",
        "\n",
        "  print('Prediction is \"{}\" ({:.1f}%)'.format(SPECIES[class_id],100*probability))\n"
      ],
      "execution_count": 44,
      "outputs": [
        {
          "output_type": "stream",
          "text": [
            "Pleast type a numeric value as prompted:\n",
            "SepalLength: 2.4\n",
            "SepalWidth: 2.6\n",
            "PetalLength: 6.5\n",
            "PetalWidth: 6.3\n",
            "INFO:tensorflow:Calling model_fn.\n",
            "INFO:tensorflow:Done calling model_fn.\n",
            "INFO:tensorflow:Graph was finalized.\n",
            "INFO:tensorflow:Restoring parameters from /tmp/tmpvoivuzu_/model.ckpt-10000\n",
            "INFO:tensorflow:Running local_init_op.\n",
            "INFO:tensorflow:Done running local_init_op.\n",
            "Prediction is \"Virginica\" (96.5%)\n"
          ],
          "name": "stdout"
        }
      ]
    }
  ]
}